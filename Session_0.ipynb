{
 "cells": [
  {
   "cell_type": "markdown",
   "id": "60c39861",
   "metadata": {
    "deletable": false,
    "editable": true
   },
   "source": [
    "# Session 0 · Welcome to the Pythoneers Club Python Workshop\n",
    "\n",
    "*Organized by the **Pythoneers Club of Católica Lisbon** — open to everyone*\n",
    "\n",
    "*Last updated: 2025-10-01*\n",
    "\n",
    "Welcome! You have **Anaconda** and **Visual Studio Code (VS Code)** installed, so you are ready to begin. This notebook gives you the essential foundations and orientation **before** we start the technical topics (e.g., data types and control flow).\n",
    "\n",
    "### Learning Objectives\n",
    "By the end of this notebook you will be able to:\n",
    "1. Explain what **Python** is and why it is widely used in **finance**.\n",
    "2. Explain the roles of **VS Code** and **Jupyter Notebooks** and when to use each.\n",
    "3. Run code cells, restart a kernel, and manage basic notebook operations.\n",
    "4. Articulate why we use **Python vs. Excel/VBA** for modern analytic workflows.\n",
    "5. Write and run your **first Python statement**.\n"
   ]
  },
  {
   "cell_type": "markdown",
   "id": "1b31f81a",
   "metadata": {
    "deletable": false,
    "editable": true
   },
   "source": [
    "## 2. What is Python?\n",
    "Python is a **high-level, general-purpose programming language** known for readable syntax, a vast ecosystem of libraries, and strong community support. It is used across:\n",
    "- **Finance**: risk modeling, backtesting strategies, portfolio analytics, reporting.\n",
    "- **Data Science & Machine Learning**: preprocessing, modeling, deployment.\n",
    "- **Automation & Scripting**: reports, data pipelines, web scraping.\n",
    "- **Web & APIs**: dashboards, services, integrations.\n",
    "\n",
    "### Why Python for Finance?\n",
    "- Works with **large datasets** (far beyond typical spreadsheet limits).\n",
    "- Strong libraries: `pandas` (tabular data), `numpy` (arrays), `matplotlib` (plots), `scipy` (math), `statsmodels`/`scikit-learn` (models), `yfinance`/API clients (data).\n",
    "- **Reproducible** research: scripts and notebooks document every step.\n",
    "- **Automation** of recurring tasks; integrates with databases and cloud tools.\n"
   ]
  },
  {
   "cell_type": "markdown",
   "id": "762c3ed4",
   "metadata": {},
   "source": [
    "## Why Python is Useful for Finance and Automation\n",
    "\n",
    "Python is not just a programming language; it is a **toolbox for modern finance professionals**.\n",
    "\n",
    "### In Finance:\n",
    "- **Data Analysis:** Work with millions of rows of financial data (prices, transactions, economic indicators) efficiently.\n",
    "- **Modeling:** Build financial models (valuation, risk, forecasting) that are reproducible and dynamic.\n",
    "- **Algorithmic Trading:** Automate trading strategies with real-time data and APIs.\n",
    "- **Visualization:** Create clear charts and dashboards to support decision-making.\n",
    "\n",
    "### In Automation:\n",
    "- **Reports:** Generate daily/weekly/monthly reports automatically, reducing manual Excel work.\n",
    "- **APIs & Data Feeds:** Connect directly to online data sources (Bloomberg-like feeds, Yahoo Finance, central banks, etc.).\n",
    "- **Workflow Automation:** Replace repetitive copy-paste tasks with scripts that run in seconds.\n",
    "- **Integration:** Python integrates seamlessly with databases, cloud services, and other business tools.\n",
    "\n",
    "➡️ The combination of finance applications and automation makes Python a career-essential skill: it saves time, reduces errors, and enables analysis at scales Excel cannot handle."
   ]
  },
  {
   "cell_type": "markdown",
   "id": "d9594652",
   "metadata": {
    "deletable": false,
    "editable": true
   },
   "source": [
    "## 3. Why Python and not Excel/VBA?\n",
    "**Excel**\n",
    "- ✅ Great for quick, manual exploration and small models.\n",
    "- ❌ Error-prone with manual steps; hard to **version**, **test**, and **scale**; limited rows; difficult automation.\n",
    "\n",
    "**VBA (Excel macros)**\n",
    "- ✅ Useful for automating Excel-specific workflows.\n",
    "- ❌ Tied to Excel; dated ecosystem; fewer modern libraries; less portable.\n",
    "\n",
    "**Python**\n",
    "- ✅ Scales to large data; robust testing and version control (Git); rich libraries for analytics; cross-platform; integrates with APIs/DBs.\n",
    "- ✅ Preferred toolchain in quantitative finance and data science.\n"
   ]
  },
  {
   "cell_type": "markdown",
   "id": "e47c00e8",
   "metadata": {
    "deletable": false,
    "editable": true
   },
   "source": [
    "## 4. What is VS Code, and why do we use it?\n",
    "**Visual Studio Code (VS Code)** is a professional, lightweight code editor. We use it to:\n",
    "- Organize multi-file projects and scripts.\n",
    "- Run and debug code with breakpoints.\n",
    "- Manage environments and extensions (Python, Jupyter).\n",
    "- Use **Git** for version control and collaboration.\n",
    "\n",
    "**Open this notebook in VS Code**\n",
    "1. Open VS Code → *File → Open Folder…* and choose your course folder.\n",
    "2. Install the **Python** and **Jupyter** extensions (if prompted).\n",
    "3. Open this `.ipynb` file; the notebook UI will appear.\n",
    "4. Ensure the **kernel** in the top-right matches your Anaconda environment.\n"
   ]
  },
  {
   "cell_type": "markdown",
   "id": "a6ac9962",
   "metadata": {
    "deletable": false,
    "editable": true
   },
   "source": [
    "## 5. What is a Jupyter Notebook, and how do we use it?\n",
    "A **Jupyter Notebook** mixes **code cells** and **Markdown text** (like this one). It is ideal for learning, experimenting, and communicating results.\n",
    "\n",
    "**Core actions**\n",
    "- Run a cell: **Shift+Enter** (or ▶️ run button).\n",
    "- Add a cell: `A` (above) or `B` (below) in command mode.\n",
    "- Switch cell type: code ↔ markdown in the toolbar or use `M`/`Y`.\n",
    "- Restart kernel: clears variables and state; use when things behave unexpectedly.\n",
    "\n",
    "**Best practice**: Run cells **top-to-bottom** to keep state consistent.\n"
   ]
  },
  {
   "cell_type": "markdown",
   "id": "dfcb20db",
   "metadata": {
    "deletable": false,
    "editable": true
   },
   "source": [
    "## 6. Your First Python Statement\n",
    "Run the cell below. Then modify the message and run again.\n"
   ]
  },
  {
   "cell_type": "code",
   "execution_count": null,
   "id": "79f6745d",
   "metadata": {
    "deletable": false,
    "editable": true
   },
   "outputs": [],
   "source": [
    "print('Hello, Pythoneers Club — Católica Lisbon!')"
   ]
  },
  {
   "cell_type": "markdown",
   "id": "8e5070fe",
   "metadata": {
    "deletable": false,
    "editable": true
   },
   "source": [
    "## 7. Next Steps\n",
    "- Keep this notebook for reference; revisit the FAQ as needed.\n",
    "- In **Session 1**, we will cover: variables, basic types, expressions, and I/O.\n",
    "- Optional exploration: try changing numbers in the interest example; add more f-strings to format outputs.\n",
    "\n",
    "Welcome again to the **Pythoneers Club**—let us begin your Python journey with confidence and curiosity."
   ]
  }
 ],
 "metadata": {
  "colab": {
   "name": "Session_0_Pythoneers_Welcome"
  },
  "kernelspec": {
   "display_name": "Python 3",
   "language": "python",
   "name": "python3"
  },
  "language_info": {
   "name": "python"
  }
 },
 "nbformat": 4,
 "nbformat_minor": 5
}
