{
 "cells": [
  {
   "cell_type": "markdown",
   "id": "164f60b3",
   "metadata": {},
   "source": [
    "# 0. Welcome & Motivation  \n",
    "\n",
    "Welcome to **Python for Finance**! 🎉  \n",
    "Before we start coding, let’s answer some important questions:  \n",
    "\n",
    "---\n",
    "\n",
    "## What is programming?  \n",
    "\n",
    "- **Programming** means giving a computer **step-by-step instructions** to solve problems.  \n",
    "- A program is just a list of instructions, like a recipe.  \n",
    "- If you’ve used **Excel formulas**, you’ve already done a little programming!  \n",
    "\n",
    "💡 Analogy:  \n",
    "- A recipe tells you how to cook a dish (step by step).  \n",
    "- A program tells the computer how to solve a problem (step by step).  \n",
    "\n",
    "---\n",
    "\n",
    "## What is Python?  \n",
    "\n",
    "- **Python** is a programming language.  \n",
    "- It is:  \n",
    "  - **Simple** → the code looks like plain English.  \n",
    "  - **Readable** → you don’t need a computer science background to understand it.  \n",
    "  - **Widely used** → across many industries.  \n",
    "\n",
    "🔧 Python is used in:  \n",
    "- Data Science and Machine Learning  \n",
    "- Finance and Economics  \n",
    "- Web Development  \n",
    "- Artificial Intelligence (AI)  \n",
    "- Scientific Research  \n",
    "- Automation  \n",
    "\n",
    "---\n",
    "\n",
    "## Why is Python useful in general and in finance?  \n",
    "\n",
    "- **Handles large datasets**: Excel struggles with millions of rows, but Python handles them easily.  \n",
    "- **Automates repetitive tasks**: no more endless copy-paste in Excel.  \n",
    "- **Rich libraries for finance & data analysis**:  \n",
    "  - `pandas` → for handling data tables.  \n",
    "  - `matplotlib` → for making charts.  \n",
    "  - `yfinance` → for downloading real stock market data.  \n",
    "- **Industry standard**: Python is used by investment banks, hedge funds, fintech companies, and even central banks.  \n",
    "\n",
    "---\n",
    "\n",
    "## Why Python and not Excel?  \n",
    "\n",
    "- **Excel** is great for quick tasks:  \n",
    "  - Easy to use for small calculations.  \n",
    "  - Familiar to many people in business.  \n",
    "\n",
    "- But Excel has limits:  \n",
    "  - Hard to manage very large datasets.  \n",
    "  - Difficult to reproduce or automate analyses.  \n",
    "  - Error-prone (a wrong formula in one cell can break everything).  \n",
    "\n",
    "- **Python** is better for larger and more complex tasks:  \n",
    "  - **Scalable** → works with big data.  \n",
    "  - **Automatable** → repeat tasks without manual work.  \n",
    "  - **Reproducible** → same code works again and again.  \n",
    "\n",
    "💡 **Example:**  \n",
    "- Analyzing 5 years of stock data for 10 companies:  \n",
    "  - In Excel: many sheets, copy-paste, formulas everywhere = painful 😓  \n",
    "  - In Python: a few lines of code = fast, clean, and reliable 🚀  \n",
    "\n",
    "---\n",
    "\n",
    "✅ **Key Takeaway:**  \n",
    "Python is not here to replace Excel for everything, but it is a more powerful tool when your data and problems get bigger and more complex. In finance and economics, Python gives you the speed and flexibility you need.  "
   ]
  },
  {
   "cell_type": "markdown",
   "id": "f2bb4267",
   "metadata": {},
   "source": [
    "# 1. Tools & Environment  \n",
    "\n",
    "Now that we understand *why* Python is useful, let’s look at the tools we will use to write and run Python code.  \n",
    "\n",
    "---\n",
    "\n",
    "## What is VS Code?  \n",
    "\n",
    "- **Visual Studio Code (VS Code)** is a free, lightweight **code editor**.  \n",
    "- It allows you to:  \n",
    "  - Write and organize Python programs.  \n",
    "  - Run code directly from the editor.  \n",
    "  - Install extensions (like Jupyter Notebooks) to make coding easier.  \n",
    "- Think of it as **Word for programmers** → it organizes your \"documents\" (code files) in one place.  \n",
    "\n",
    "---\n",
    "\n",
    "## What is a Jupyter Notebook?  \n",
    "\n",
    "- A **Jupyter Notebook** is an interactive coding environment.  \n",
    "- It lets you mix:  \n",
    "  - **Text cells** (for explanations, notes, formulas).  \n",
    "  - **Code cells** (where you run Python code).  \n",
    "  - **Output cells** (where you see results).  \n",
    "\n",
    "💡 Why Jupyter?  \n",
    "- Great for teaching, learning, and doing data analysis.  \n",
    "- Perfect for finance/econ: you can explain the method and show the calculation in one place.  \n",
    "\n",
    "---\n",
    "\n",
    "## Using Jupyter in VS Code  \n",
    "\n",
    "We will use Jupyter **inside VS Code**.  \n",
    "\n",
    "- Open VS Code.  \n",
    "- Create a new Jupyter Notebook (`.ipynb` file).  \n",
    "- Each notebook is made of **cells**:  \n",
    "  - *Markdown cells* → for explanations.  \n",
    "  - *Code cells* → for Python code.  \n",
    "\n",
    "---\n",
    "\n",
    "## Running Code in a Notebook  \n",
    "\n",
    "To run a code cell:  \n",
    "1. Click inside the cell.  \n",
    "2. Either:  \n",
    "   - Press **Shift + Enter** on your keyboard, **or**  \n",
    "   - Click the **Run (▶) arrow button** on the left of the cell.  "
   ]
  },
  {
   "cell_type": "code",
   "execution_count": null,
   "id": "78d6d46e",
   "metadata": {},
   "outputs": [],
   "source": [
    "print(\"Hello, World!\")"
   ]
  },
  {
   "cell_type": "markdown",
   "id": "06f1d89a",
   "metadata": {},
   "source": [
    "# 2. Variables & Data Types  \n",
    "\n",
    "When we use Python, we often need to store information so we can use it later.  \n",
    "In programming, we do this with **variables**.  \n",
    "\n",
    "---\n",
    "\n",
    "## What is a Variable?  \n",
    "\n",
    "A **variable** is like a **labeled box** where you can store information.  \n",
    "- The **name of the variable** is the label on the box.  \n",
    "- The **value of the variable** is what’s inside the box.  \n",
    "\n",
    "Example:  "
   ]
  },
  {
   "cell_type": "code",
   "execution_count": 2,
   "id": "e148fcf1",
   "metadata": {},
   "outputs": [],
   "source": [
    "gdp_portugal = 300\n",
    "gdp_spain = 400"
   ]
  },
  {
   "cell_type": "markdown",
   "id": "6d04647a",
   "metadata": {},
   "source": [
    "Here we have two boxes:  \n",
    "- One labeled `gdp_portugal` with the number **300** inside.  \n",
    "- Another labeled `gdp_spain` with the number **400** inside.  \n",
    "\n",
    "Just like a warehouse full of boxes, variables help us organize information without keeping everything in our heads.  \n",
    "\n",
    "---\n",
    "\n",
    "## Looking Inside a Variable with `print()`  \n",
    "\n",
    "When you put something in a box, you may want to check what’s inside.  \n",
    "In Python, we use the **`print()` function** for this.  \n",
    "\n",
    "Think of `print()` as shining a flashlight into the box so you can see its contents.  "
   ]
  },
  {
   "cell_type": "code",
   "execution_count": 3,
   "id": "43695a67",
   "metadata": {},
   "outputs": [
    {
     "name": "stdout",
     "output_type": "stream",
     "text": [
      "300\n",
      "400\n"
     ]
    }
   ],
   "source": [
    "print(gdp_portugal)\n",
    "print(gdp_spain)"
   ]
  },
  {
   "cell_type": "markdown",
   "id": "eae1269b",
   "metadata": {},
   "source": [
    "---\n",
    "\n",
    "## Data Types\n",
    "\n",
    "Not all variables store the same kind of information.  \n",
    "In Python, the kind of information is called its **data type**.  \n",
    "\n",
    "Let’s go through the most important ones step by step.  \n",
    "\n",
    "---\n",
    "\n",
    "### 1. Integers (`int`)  \n",
    "\n",
    "- Integers are **whole numbers** (positive, negative, or zero).  \n",
    "- They don’t have decimals.  \n",
    "- Use them when you are counting things.  \n",
    "\n",
    "Examples in finance/economics:  \n",
    "- Number of years.  \n",
    "- Number of employees in a company.  \n",
    "- Number of shares owned.  \n",
    "\n"
   ]
  },
  {
   "cell_type": "code",
   "execution_count": 5,
   "id": "b9953cb6",
   "metadata": {},
   "outputs": [
    {
     "name": "stdout",
     "output_type": "stream",
     "text": [
      "2025\n",
      "50\n",
      "-100\n"
     ]
    }
   ],
   "source": [
    "# Integers\n",
    "year = 2025\n",
    "shares = 50\n",
    "debt = -100  # negative integers are allowed\n",
    "\n",
    "print(year)\n",
    "print(shares)\n",
    "print(debt)"
   ]
  },
  {
   "cell_type": "markdown",
   "id": "00e304e2",
   "metadata": {},
   "source": [
    "---\n",
    "\n",
    "### 2. Floats (`float`)  \n",
    "\n",
    "- Floats are **numbers with decimals**.  \n",
    "- Use them when precision matters.  \n",
    "\n",
    "Examples in finance/economics:  \n",
    "- Interest rates (5% = 0.05).  \n",
    "- GDP growth (2.0%).  \n",
    "- Stock prices (€145.75).  \n"
   ]
  },
  {
   "cell_type": "code",
   "execution_count": 6,
   "id": "7784b47c",
   "metadata": {},
   "outputs": [
    {
     "name": "stdout",
     "output_type": "stream",
     "text": [
      "0.05\n",
      "2.0\n",
      "145.75\n"
     ]
    }
   ],
   "source": [
    "# Floats\n",
    "interest_rate = 0.05\n",
    "gdp_growth = 2.0\n",
    "stock_price = 145.75\n",
    "\n",
    "print(interest_rate)\n",
    "print(gdp_growth)\n",
    "print(stock_price)\n"
   ]
  },
  {
   "cell_type": "markdown",
   "id": "4d316094",
   "metadata": {},
   "source": [
    "Note: Even if a number *looks* whole, if it has a decimal point, Python treats it as a float.  \n",
    "\n",
    "---\n",
    "\n",
    "### 3. Strings (`str`)  \n",
    "\n",
    "- Strings are **text** enclosed in quotes (`\"\"` or `''`).  \n",
    "- Use them for names, labels, or anything that is not a number.  \n",
    "\n",
    "Examples in finance/economics:  \n",
    "- Country names (“Portugal”).  \n",
    "- Stock tickers (“AAPL” for Apple).  \n",
    "- Messages or outputs.  \n",
    "\n"
   ]
  },
  {
   "cell_type": "code",
   "execution_count": 7,
   "id": "87d6f3f4",
   "metadata": {},
   "outputs": [
    {
     "name": "stdout",
     "output_type": "stream",
     "text": [
      "Portugal\n",
      "AAPL\n",
      "Economics is fun!\n"
     ]
    }
   ],
   "source": [
    "# Strings\n",
    "country = \"Portugal\"\n",
    "ticker = \"AAPL\"\n",
    "message = \"Economics is fun!\"\n",
    "\n",
    "print(country)\n",
    "print(ticker)\n",
    "print(message)"
   ]
  },
  {
   "cell_type": "markdown",
   "id": "a746c9d6",
   "metadata": {},
   "source": [
    "Strings are useful for creating readable output — just like labels on charts or reports.  \n",
    "\n",
    "---\n",
    "\n",
    "### 4. Booleans (`bool`)  \n",
    "\n",
    "- Booleans represent **True or False** values.  \n",
    "- Think of them as simple ON/OFF switches.  \n",
    "\n",
    "Examples in finance/economics:  \n",
    "- Is inflation above 3%? → True/False.  \n",
    "- Did the stock price go up today? → True/False.  \n",
    "- Is unemployment low? → True/False.  \n"
   ]
  },
  {
   "cell_type": "code",
   "execution_count": null,
   "id": "d3613d53",
   "metadata": {},
   "outputs": [],
   "source": [
    "# Booleans\n",
    "inflation_high = True\n",
    "stock_price_up = False\n",
    "\n",
    "print(inflation_high)\n",
    "print(stock_price_up)"
   ]
  },
  {
   "cell_type": "markdown",
   "id": "398cc2e5",
   "metadata": {},
   "source": [
    "Booleans become very powerful later when we combine them with **if-statements** to make decisions in our programs.  \n",
    "\n",
    "---\n",
    "\n",
    "✅ **Summary of Data Types**  \n",
    "\n",
    "- **Integers (`int`)** → whole numbers (shares, years).  \n",
    "- **Floats (`float`)** → decimals (rates, prices).  \n",
    "- **Strings (`str`)** → text (countries, labels).  \n",
    "- **Booleans (`bool`)** → True/False (yes/no conditions).  \n",
    "\n",
    "Think of your program as a toolbox:  \n",
    "- Use integers when counting.  \n",
    "- Use floats when measuring.  \n",
    "- Use strings when describing.  \n",
    "- Use booleans when deciding.  \n"
   ]
  },
  {
   "cell_type": "markdown",
   "id": "b3295edd",
   "metadata": {},
   "source": [
    "---\n",
    "\n",
    "## Checking the Data Type with `type()`  \n",
    "\n",
    "Sometimes it’s not obvious what type of value a variable has.  \n",
    "Python gives us the **`type()` function** to check.  \n",
    "\n",
    "Think of `type()` as asking Python:  \n",
    "> “What kind of box is this?”  \n",
    "\n",
    "Examples:  \n"
   ]
  },
  {
   "cell_type": "code",
   "execution_count": 8,
   "id": "ba857018",
   "metadata": {},
   "outputs": [
    {
     "name": "stdout",
     "output_type": "stream",
     "text": [
      "<class 'int'>\n",
      "<class 'float'>\n",
      "<class 'str'>\n",
      "<class 'bool'>\n"
     ]
    }
   ],
   "source": [
    "year = 2025\n",
    "interest_rate = 0.05\n",
    "country = \"Portugal\"\n",
    "inflation_high = True\n",
    "\n",
    "print(type(year))          # int\n",
    "print(type(interest_rate)) # float\n",
    "print(type(country))       # str\n",
    "print(type(inflation_high))# bool"
   ]
  },
  {
   "cell_type": "markdown",
   "id": "6b575ba7",
   "metadata": {},
   "source": [
    "\n",
    "This is especially useful when you are unsure if a number is stored as an integer or a float, or if text has been read in correctly as a string.  \n",
    "\n",
    "**Key Takeaway:**  \n",
    "\n",
    "Use `type(variable)` whenever you want to confirm what kind of data you’re working with. It’s like checking the label on the box to avoid mixing things up.  \n"
   ]
  },
  {
   "cell_type": "markdown",
   "id": "583e886e",
   "metadata": {},
   "source": [
    "# 3. Key Operations and Functions for Each Data Type  \n",
    "\n",
    "Now that we know the main data types, let’s learn some of the **operations and functions** we can use with them.  \n",
    "\n",
    "---\n",
    "\n",
    "## Integers and Floats (Numbers)  \n",
    "\n",
    "With numbers, Python supports all the standard math operations:  \n",
    "\n",
    "- `+` → addition  \n",
    "- `-` → subtraction  \n",
    "- `*` → multiplication  \n",
    "- `/` → division  \n",
    "- `**` → power (exponentiation)  \n",
    "- `//` → integer division (drops the decimals)  \n",
    "- `%` → remainder after division (modulus)  \n",
    "\n"
   ]
  },
  {
   "cell_type": "code",
   "execution_count": 9,
   "id": "7b5a79d7",
   "metadata": {},
   "outputs": [
    {
     "name": "stdout",
     "output_type": "stream",
     "text": [
      "13\n",
      "7\n",
      "30\n",
      "3.3333333333333335\n",
      "1000\n",
      "3\n",
      "1\n"
     ]
    }
   ],
   "source": [
    "a = 10\n",
    "b = 3\n",
    "\n",
    "print(a + b)   # 13\n",
    "print(a - b)   # 7\n",
    "print(a * b)   # 30\n",
    "print(a / b)   # 3.333...\n",
    "print(a ** b)  # 1000\n",
    "print(a // b)  # 3 (integer division)\n",
    "print(a % b)   # 1 (remainder)\n"
   ]
  },
  {
   "cell_type": "markdown",
   "id": "16e2713f",
   "metadata": {},
   "source": [
    "💡 Example in Finance:  \n",
    "- `%` can be used to check if a number of payments divides evenly into years.  \n",
    "- `**` is useful for compound interest calculations.  \n",
    "\n",
    "---\n",
    "\n",
    "## Strings (Text)  \n",
    "\n",
    "Strings are very flexible. Here are some common operations:  \n",
    "\n",
    "- Concatenation (`+`) → join two strings.  \n",
    "- Repetition (`*`) → repeat a string.  \n",
    "- Indexing (`[]`) → get a single character.  \n",
    "- Slicing (`[start:end]`) → get part of the string.  \n",
    "- Built-in functions:  \n",
    "  - `.upper()` → uppercase  \n",
    "  - `.lower()` → lowercase  \n",
    "  - `.replace()` → replace part of a string  \n",
    "  - `len()` → length of a string  \n",
    "\n"
   ]
  },
  {
   "cell_type": "code",
   "execution_count": 10,
   "id": "52040f01",
   "metadata": {},
   "outputs": [
    {
     "name": "stdout",
     "output_type": "stream",
     "text": [
      "Portugal GDP 2025\n",
      "Portugal GDPPortugal GDP\n",
      "P\n",
      "Portugal\n",
      "PORTUGAL GDP\n",
      "portugal gdp\n",
      "Portugal Population\n",
      "12\n"
     ]
    }
   ],
   "source": [
    "name = \"Portugal GDP\"\n",
    "\n",
    "print(name + \" 2025\")        # Concatenation\n",
    "print(name * 2)              # Repetition\n",
    "print(name[0])               # First character\n",
    "print(name[0:8])             # First 8 characters\n",
    "print(name.upper())          # Uppercase\n",
    "print(name.lower())          # Lowercase\n",
    "print(name.replace(\"GDP\", \"Population\"))\n",
    "print(len(name))             # Length\n"
   ]
  },
  {
   "cell_type": "markdown",
   "id": "19b15f93",
   "metadata": {},
   "source": [
    "💡 Example in Finance:  \n",
    "- Use `replace()` to clean text in datasets.  \n",
    "- Use `len()` to check the length of stock tickers or country codes.  \n",
    "\n",
    "---\n",
    "\n",
    "## Booleans (True/False)  \n",
    "\n",
    "Booleans are mainly used for **comparisons and logic**.  \n",
    "\n",
    "Comparison operators:  \n",
    "- `>` → greater than  \n",
    "- `<` → less than  \n",
    "- `>=` → greater or equal  \n",
    "- `<=` → less or equal  \n",
    "- `==` → equal  \n",
    "- `!=` → not equal  \n",
    "\n",
    "Logical operators:  \n",
    "- `and` → both conditions must be True  \n",
    "- `or` → at least one condition is True  \n",
    "- `not` → flips True/False  \n",
    "\n"
   ]
  },
  {
   "cell_type": "code",
   "execution_count": 11,
   "id": "c9e2282b",
   "metadata": {},
   "outputs": [
    {
     "name": "stdout",
     "output_type": "stream",
     "text": [
      "True\n",
      "True\n",
      "False\n",
      "True\n",
      "False\n",
      "False\n"
     ]
    }
   ],
   "source": [
    "gdp_portugal = 300\n",
    "gdp_spain = 400\n",
    "\n",
    "print(gdp_spain > gdp_portugal)    # True\n",
    "print(gdp_portugal == 300)         # True\n",
    "print(gdp_spain != 400)            # False\n",
    "\n",
    "inflation = 4\n",
    "print(inflation > 3 and inflation < 10)   # True\n",
    "print(inflation > 5 or inflation < 3)     # False\n",
    "print(not inflation > 3)                  # False\n"
   ]
  },
  {
   "cell_type": "markdown",
   "id": "93146660",
   "metadata": {},
   "source": [
    "💡 Example in Finance:  \n",
    "- `if inflation > 3:` → later we will use this in decision-making.  \n",
    "- Booleans are the foundation for control flow in Python.  \n",
    "\n",
    "---\n",
    "\n",
    "## Useful Built-in Functions  \n",
    "\n",
    "Some functions work with multiple data types:  \n",
    "\n",
    "- `type()` → check the type of a variable.  \n",
    "- `len()` → length (works for strings, lists, etc.).  \n",
    "- `round()` → round a float.  \n",
    "- `abs()` → absolute value.  \n",
    "\n"
   ]
  },
  {
   "cell_type": "code",
   "execution_count": null,
   "id": "c5844aad",
   "metadata": {},
   "outputs": [],
   "source": [
    "x = -5.678\n",
    "word = \"Economics\"\n",
    "\n",
    "print(type(x))     # float\n",
    "print(len(word))   # 9\n",
    "print(round(x, 2)) # -5.68\n",
    "print(abs(x))      # 5.678\n"
   ]
  },
  {
   "cell_type": "markdown",
   "id": "747d929b",
   "metadata": {},
   "source": [
    "---\n",
    "\n",
    "## Exercises  \n",
    "\n",
    "Try these out in new cells:  \n",
    "\n",
    "1. Use `%` (modulus) to check the remainder when 25 is divided by 4.  \n",
    "2. Create the string `\"Python Finance\"` and:  \n",
    "   - Print it in uppercase.  \n",
    "   - Print the first 6 characters.  \n",
    "   - Replace `\"Finance\"` with `\"Economics\"`.  \n",
    "3. Compare two stock prices using `>`, `<`, and `==`.  \n",
    "4. Use `round()` to round the result of `1000 * 1.05 ** 3` to 2 decimal places.  "
   ]
  },
  {
   "cell_type": "code",
   "execution_count": null,
   "id": "d3e5b84b",
   "metadata": {},
   "outputs": [],
   "source": [
    "# Problem 1"
   ]
  },
  {
   "cell_type": "code",
   "execution_count": null,
   "id": "71c4575c",
   "metadata": {},
   "outputs": [],
   "source": [
    "# Problem 2"
   ]
  },
  {
   "cell_type": "code",
   "execution_count": null,
   "id": "d4492e1f",
   "metadata": {},
   "outputs": [],
   "source": [
    "# Problem 3"
   ]
  },
  {
   "cell_type": "code",
   "execution_count": null,
   "id": "8773d0c4",
   "metadata": {},
   "outputs": [],
   "source": [
    "# Problem 4"
   ]
  },
  {
   "cell_type": "markdown",
   "id": "86396984",
   "metadata": {},
   "source": [
    "### 🏆 Challenge Exercise  \n",
    "\n",
    "An investor deposits **€1,000** into a savings account with an annual interest rate of **5%**, compounded yearly.  \n",
    "\n",
    "1. Use `**` to calculate the balance after 10 years.  \n",
    "2. Store the result in a variable and create a string that says:  \n",
    "   `\"After 10 years, the investment will be worth €X\"` (replace `X` with the actual value).  \n",
    "3. Use `round()` to display the value with **2 decimal places**.  \n",
    "4. Use a comparison (`>`) to check whether the final amount is greater than **€1,600**. Print the result as:  \n",
    "   - `\"Goal reached: True\"` or `\"Goal reached: False\"`.  \n",
    "\n",
    "💡 *Hint:* You’ll need to combine numbers, strings, built-in functions, and booleans.  "
   ]
  },
  {
   "cell_type": "code",
   "execution_count": null,
   "id": "73e69565",
   "metadata": {},
   "outputs": [],
   "source": [
    "# Put your code here"
   ]
  },
  {
   "cell_type": "markdown",
   "id": "885d5934",
   "metadata": {},
   "source": [
    "---\n",
    "\n",
    "✅ **Key Takeaways**  \n",
    "- Numbers support math operations like `+`, `-`, `**`, `%`.  \n",
    "- Strings can be joined, sliced, and transformed with functions like `.upper()` and `.replace()`.  \n",
    "- Booleans represent conditions (`True`/`False`) and are created with comparisons.  \n",
    "- Built-in functions like `len()`, `round()`, and `abs()` are general tools you’ll use all the time.  \n"
   ]
  }
 ],
 "metadata": {
  "kernelspec": {
   "display_name": "Python 3",
   "language": "python",
   "name": "python3"
  },
  "language_info": {
   "codemirror_mode": {
    "name": "ipython",
    "version": 3
   },
   "file_extension": ".py",
   "mimetype": "text/x-python",
   "name": "python",
   "nbconvert_exporter": "python",
   "pygments_lexer": "ipython3",
   "version": "3.13.7"
  }
 },
 "nbformat": 4,
 "nbformat_minor": 5
}
